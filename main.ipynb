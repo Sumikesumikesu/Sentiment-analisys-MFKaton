{
 "cells": [
  {
   "cell_type": "markdown",
   "metadata": {},
   "source": [
    "# Открывем исходники"
   ]
  },
  {
   "cell_type": "code",
   "execution_count": 1,
   "metadata": {},
   "outputs": [],
   "source": [
    "import numpy as np\n",
    "import pandas as pd\n",
    "from tqdm import tqdm\n",
    "\n",
    "pd.set_option('display.max_colwidth', None)\n",
    "tqdm.pandas()"
   ]
  },
  {
   "cell_type": "code",
   "execution_count": 2,
   "metadata": {},
   "outputs": [],
   "source": [
    "with open('train.labels', 'r') as file1:\n",
    "    labels = file1.read()\n",
    "\n",
    "labels = labels.split('\\n')\n",
    "labels = [_ for _ in labels if _]"
   ]
  },
  {
   "cell_type": "code",
   "execution_count": 3,
   "metadata": {},
   "outputs": [],
   "source": [
    "# сделаем нормальные лейблы\n",
    "from sklearn.preprocessing import LabelEncoder\n",
    "le = LabelEncoder()\n",
    "binary_labels = le.fit_transform(labels)"
   ]
  },
  {
   "cell_type": "code",
   "execution_count": 4,
   "metadata": {},
   "outputs": [],
   "source": [
    "with open('train.texts', 'r') as file2:\n",
    "    train_texts = file2.read()\n",
    "\n",
    "train_texts = train_texts.split('\\n')[:-1]"
   ]
  },
  {
   "cell_type": "code",
   "execution_count": 5,
   "metadata": {},
   "outputs": [],
   "source": [
    "imdb_data = pd.DataFrame(data={\n",
    "    'review': train_texts,\n",
    "    'labels': binary_labels\n",
    "})"
   ]
  },
  {
   "cell_type": "code",
   "execution_count": 6,
   "metadata": {},
   "outputs": [],
   "source": [
    "imdb_data.to_csv('imdb_data.csv', index=False)"
   ]
  },
  {
   "cell_type": "code",
   "execution_count": 6,
   "metadata": {},
   "outputs": [
    {
     "data": {
      "text/html": [
       "<div>\n",
       "<style scoped>\n",
       "    .dataframe tbody tr th:only-of-type {\n",
       "        vertical-align: middle;\n",
       "    }\n",
       "\n",
       "    .dataframe tbody tr th {\n",
       "        vertical-align: top;\n",
       "    }\n",
       "\n",
       "    .dataframe thead th {\n",
       "        text-align: right;\n",
       "    }\n",
       "</style>\n",
       "<table border=\"1\" class=\"dataframe\">\n",
       "  <thead>\n",
       "    <tr style=\"text-align: right;\">\n",
       "      <th></th>\n",
       "      <th>review</th>\n",
       "      <th>labels</th>\n",
       "    </tr>\n",
       "  </thead>\n",
       "  <tbody>\n",
       "    <tr>\n",
       "      <th>0</th>\n",
       "      <td>If the myth regarding broken mirrors would be accurate, everybody involved in this production would now face approximately 170 years of bad luck, because there are a lot of mirrors falling to little pieces here. If only the script was as shattering as the glass, then \"The Broken\" would have been a brilliant film. Now it's sadly just an overlong, derivative and dull movie with only just a handful of remarkable ideas and memorable sequences. Sean Ellis made a very stylish and elegantly photographed movie, but the story is lackluster and the total absence of logic and explanation is really frustrating. I got into a discussion with a friend regarding the basic concept and \"meaning\" of the film. He thinks Ellis found inspiration in an old legend claiming that spotting your doppelganger is a foreboding of how you're going to die. Interesting theory, but I'm not familiar with this legend and couldn't find anything on the Internet about this, neither. Personally, I just think \"The Broken\" is yet another umpteenth variation on the theme of \"Invasion of the Body Snatchers\" but without the alien interference. \"The Broken\" centers on the American McVey family living in London, and particularly Gina. When a mirror spontaneously breaks during a birthday celebration, this triggers a whole series of mysterious and seemingly supernatural events. Gina spots herself driving by in a car and follows her mirror image to an apartment building. Whilst driving home in a state of mental confusion, she causes a terrible car accident and ends up in the hospital. When dismissed, Gina feels like her whole surrounding is changing. She doesn't recognize her own boyfriend anymore and uncanny fragments of the accident keep flashing before her eyes. Does she suffer from mental traumas invoked by the accident or is there really a supernatural conspiracy happening all around her? Writer/director Sean Ellis definitely invokes feelings of curiosity and suspense in his script, but unfortunately he fails to properly elaborate them. \"The Broken\" is a truly atmospheric and stylish effort, but only after just half an hour of film, you come to the painful conclusion it shall just remain a beautiful but empty package. There's a frustratingly high amount of \"fake\" suspense in this film. This means building up tension, through ominous music and eerie camera angels, when absolutely nothing has even happened so far. By the time the actually mysteriousness kicks in, these tricks don't have any scary effect on you anymore. Some of my fellow reviewers around here compare the film and particularly Sean Ellis' style with the repertoires of David Lynch, Stanley Kubrick and even Alfred Hitchcock, but that is way, way   WAY too much honor. PS: what is up with that alternate spelling; the one with the Scandinavian \"ø\"</td>\n",
       "      <td>0</td>\n",
       "    </tr>\n",
       "    <tr>\n",
       "      <th>1</th>\n",
       "      <td>I gave this movie a 10 because it needed to be rewarded for its scary elements and actors AND my god the enging! The thing is I don't want to tell anyone anything about the acting or story because it will ruin the movie. But I will recommend that you go straight to your nearest moviestore right now and rent it! (Don't forget popcorn!)</td>\n",
       "      <td>1</td>\n",
       "    </tr>\n",
       "    <tr>\n",
       "      <th>2</th>\n",
       "      <td>After watching the first 20mn of Blanche(sorry I couldn't take more of it), I have now confirmed she does not. &lt;br /&gt;&lt;br /&gt;Basically, this \"movie\" is an insult to the real french actors participating in this farcical piece of junk. It starts from a concept successfully used in French comedies (\"Deux heures moins le quart avant Jesus Christ\", \"La Folie des Grandeurs\",...): a historical movie with anachronic tone / dialogues. This can give brilliant results if supported by brilliant actors and a \"finesse\" of direction avoiding the dreaded \"heavy comedy\" stigma.&lt;br /&gt;&lt;br /&gt;Unfortunately, the horsey-faced Lou Doillon ruins everything and Blanche, instead of a comedy, just turns into an horror movie. Horror to cinephiles who want to be puzzled and shocked watching fine actors such as Decaune, Zem or Rochefort struggling in the middle of this gaudy burlesque kitchy-prissy farce.</td>\n",
       "      <td>0</td>\n",
       "    </tr>\n",
       "  </tbody>\n",
       "</table>\n",
       "</div>"
      ],
      "text/plain": [
       "                                                                                                                                                                                                                                                                                                                                                                                                                                                                                                                                                                                                                                                                                                                                                                                                                                                                                                                                                                                                                                                                                                                                                                                                                                                                                                                                                                                                                                                                                                                                                                                                                                                                                                                                                                                                                                                                                                                                                                                                                                                                                                                                                                                                                                                                                                                                                                                                                                                                                                                                                                                                                                                                                                                                                                                                                                                                                                                        review  \\\n",
       "0  If the myth regarding broken mirrors would be accurate, everybody involved in this production would now face approximately 170 years of bad luck, because there are a lot of mirrors falling to little pieces here. If only the script was as shattering as the glass, then \"The Broken\" would have been a brilliant film. Now it's sadly just an overlong, derivative and dull movie with only just a handful of remarkable ideas and memorable sequences. Sean Ellis made a very stylish and elegantly photographed movie, but the story is lackluster and the total absence of logic and explanation is really frustrating. I got into a discussion with a friend regarding the basic concept and \"meaning\" of the film. He thinks Ellis found inspiration in an old legend claiming that spotting your doppelganger is a foreboding of how you're going to die. Interesting theory, but I'm not familiar with this legend and couldn't find anything on the Internet about this, neither. Personally, I just think \"The Broken\" is yet another umpteenth variation on the theme of \"Invasion of the Body Snatchers\" but without the alien interference. \"The Broken\" centers on the American McVey family living in London, and particularly Gina. When a mirror spontaneously breaks during a birthday celebration, this triggers a whole series of mysterious and seemingly supernatural events. Gina spots herself driving by in a car and follows her mirror image to an apartment building. Whilst driving home in a state of mental confusion, she causes a terrible car accident and ends up in the hospital. When dismissed, Gina feels like her whole surrounding is changing. She doesn't recognize her own boyfriend anymore and uncanny fragments of the accident keep flashing before her eyes. Does she suffer from mental traumas invoked by the accident or is there really a supernatural conspiracy happening all around her? Writer/director Sean Ellis definitely invokes feelings of curiosity and suspense in his script, but unfortunately he fails to properly elaborate them. \"The Broken\" is a truly atmospheric and stylish effort, but only after just half an hour of film, you come to the painful conclusion it shall just remain a beautiful but empty package. There's a frustratingly high amount of \"fake\" suspense in this film. This means building up tension, through ominous music and eerie camera angels, when absolutely nothing has even happened so far. By the time the actually mysteriousness kicks in, these tricks don't have any scary effect on you anymore. Some of my fellow reviewers around here compare the film and particularly Sean Ellis' style with the repertoires of David Lynch, Stanley Kubrick and even Alfred Hitchcock, but that is way, way \n",
       "  WAY too much honor. PS: what is up with that alternate spelling; the one with the Scandinavian \"ø\"   \n",
       "1                                                                                                                                                                                                                                                                                                                                                                                                                                                                                                                                                                                                                                                                                                                                                                                                                                                                                                                                                                                                                                                                                                                                                                                                                                                                                                                                                                                                                                                                                                                                                                                                                                                                                                                                                                                                                                                                                                                                                                                                                                                                                                                                                                                                                                                                                                                                                                                                                                                                                                                                                                             I gave this movie a 10 because it needed to be rewarded for its scary elements and actors AND my god the enging! The thing is I don't want to tell anyone anything about the acting or story because it will ruin the movie. But I will recommend that you go straight to your nearest moviestore right now and rent it! (Don't forget popcorn!)   \n",
       "2                                                                                                                                                                                                                                                                                                                                                                                                                                                                                                                                                                                                                                                                                                                                                                                                                                                                                                                                                                                                                                                                                                                                                                                                                                                                                                                                                                                                                                                                                                                                                                                                                                                                                                                                                                                                                                                                                                                                                                                                        After watching the first 20mn of Blanche(sorry I couldn't take more of it), I have now confirmed she does not. <br /><br />Basically, this \"movie\" is an insult to the real french actors participating in this farcical piece of junk. It starts from a concept successfully used in French comedies (\"Deux heures moins le quart avant Jesus Christ\", \"La Folie des Grandeurs\",...): a historical movie with anachronic tone / dialogues. This can give brilliant results if supported by brilliant actors and a \"finesse\" of direction avoiding the dreaded \"heavy comedy\" stigma.<br /><br />Unfortunately, the horsey-faced Lou Doillon ruins everything and Blanche, instead of a comedy, just turns into an horror movie. Horror to cinephiles who want to be puzzled and shocked watching fine actors such as Decaune, Zem or Rochefort struggling in the middle of this gaudy burlesque kitchy-prissy farce.   \n",
       "\n",
       "   labels  \n",
       "0       0  \n",
       "1       1  \n",
       "2       0  "
      ]
     },
     "execution_count": 6,
     "metadata": {},
     "output_type": "execute_result"
    }
   ],
   "source": [
    "imdb_data.head(3)"
   ]
  },
  {
   "cell_type": "markdown",
   "metadata": {},
   "source": [
    "# Предобработка текстов"
   ]
  },
  {
   "cell_type": "code",
   "execution_count": null,
   "metadata": {},
   "outputs": [
    {
     "name": "stderr",
     "output_type": "stream",
     "text": [
      "[nltk_data] Downloading package stopwords to\n",
      "[nltk_data]     /Users/mikesu/nltk_data...\n",
      "[nltk_data]   Package stopwords is already up-to-date!\n",
      "[nltk_data] Downloading package punkt to /Users/mikesu/nltk_data...\n",
      "[nltk_data]   Package punkt is already up-to-date!\n",
      "[nltk_data] Downloading package wordnet to /Users/mikesu/nltk_data...\n",
      "[nltk_data]   Package wordnet is already up-to-date!\n"
     ]
    }
   ],
   "source": [
    "import nltk\n",
    "from nltk.corpus import stopwords\n",
    "import re\n",
    "from nltk.stem import PorterStemmer, WordNetLemmatizer\n",
    "from nltk.tokenize import word_tokenize\n",
    "\n",
    "nltk.download('stopwords')\n",
    "nltk.download('punkt')\n",
    "nltk.download('wordnet')\n",
    "\n",
    "SW = stopwords.words(\"english\")\n",
    "\n",
    "\n",
    "def primary_processing(text):\n",
    "    # приведем все к нижнему регистру и удалим все не английские символы\n",
    "    text = text.replace('<br /><br />', ' ')\n",
    "    cleaned_text = re.sub(r'[^a-zA-Z\\s]', ' ', text).lower()\n",
    "\n",
    "    return ' '.join(cleaned_text.split())\n",
    "\n",
    "\n",
    "def tokenize(text):\n",
    "    tokens = nltk.word_tokenize(text)\n",
    "    return tokens\n",
    "\n",
    "\n",
    "def lemmatizer(tokens):\n",
    "    lem = WordNetLemmatizer()\n",
    "    tokens = [lem.lemmatize(token) for token in tokens]\n",
    "    return tokens\n",
    "\n",
    "\n",
    "def simple_stemmer(tokens):\n",
    "    ps=PorterStemmer()\n",
    "    tokens = [ps.stem(token) for token in tokens]\n",
    "    return tokens\n",
    "\n",
    "\n",
    "def delete_stopwords(tokens):\n",
    "    text_without_SW = [token for token in tokens if token not in SW]\n",
    "\n",
    "    return text_without_SW\n"
   ]
  },
  {
   "cell_type": "code",
   "execution_count": 8,
   "metadata": {},
   "outputs": [],
   "source": [
    "imdb_data['review'] = imdb_data['review'].apply(primary_processing)"
   ]
  },
  {
   "cell_type": "code",
   "execution_count": 9,
   "metadata": {},
   "outputs": [
    {
     "name": "stderr",
     "output_type": "stream",
     "text": [
      "100%|██████████| 15000/15000 [00:15<00:00, 983.76it/s] \n"
     ]
    }
   ],
   "source": [
    "imdb_data['review'] = imdb_data['review'].progress_apply(tokenize)"
   ]
  },
  {
   "cell_type": "code",
   "execution_count": 10,
   "metadata": {},
   "outputs": [
    {
     "name": "stderr",
     "output_type": "stream",
     "text": [
      "100%|██████████| 15000/15000 [00:32<00:00, 467.21it/s]\n"
     ]
    }
   ],
   "source": [
    "imdb_data['lem']=imdb_data['review'].progress_apply(lemmatizer)"
   ]
  },
  {
   "cell_type": "code",
   "execution_count": 11,
   "metadata": {},
   "outputs": [
    {
     "name": "stderr",
     "output_type": "stream",
     "text": [
      "100%|██████████| 15000/15000 [01:20<00:00, 185.86it/s]\n"
     ]
    }
   ],
   "source": [
    "imdb_data['stem']=imdb_data['review'].progress_apply(simple_stemmer)"
   ]
  },
  {
   "cell_type": "code",
   "execution_count": 12,
   "metadata": {},
   "outputs": [
    {
     "name": "stderr",
     "output_type": "stream",
     "text": [
      "  0%|          | 0/15000 [00:00<?, ?it/s]"
     ]
    },
    {
     "name": "stderr",
     "output_type": "stream",
     "text": [
      "100%|██████████| 15000/15000 [00:09<00:00, 1633.96it/s]\n",
      "100%|██████████| 15000/15000 [00:09<00:00, 1570.98it/s]\n",
      "100%|██████████| 15000/15000 [00:08<00:00, 1688.02it/s]\n"
     ]
    }
   ],
   "source": [
    "imdb_data['review']=imdb_data['review'].progress_apply(delete_stopwords)\n",
    "imdb_data['stem']=imdb_data['stem'].progress_apply(delete_stopwords)\n",
    "imdb_data['lem']=imdb_data['lem'].progress_apply(delete_stopwords)"
   ]
  },
  {
   "cell_type": "code",
   "execution_count": 13,
   "metadata": {},
   "outputs": [
    {
     "data": {
      "text/html": [
       "<div>\n",
       "<style scoped>\n",
       "    .dataframe tbody tr th:only-of-type {\n",
       "        vertical-align: middle;\n",
       "    }\n",
       "\n",
       "    .dataframe tbody tr th {\n",
       "        vertical-align: top;\n",
       "    }\n",
       "\n",
       "    .dataframe thead th {\n",
       "        text-align: right;\n",
       "    }\n",
       "</style>\n",
       "<table border=\"1\" class=\"dataframe\">\n",
       "  <thead>\n",
       "    <tr style=\"text-align: right;\">\n",
       "      <th></th>\n",
       "      <th>review</th>\n",
       "      <th>labels</th>\n",
       "      <th>lem</th>\n",
       "      <th>stem</th>\n",
       "    </tr>\n",
       "  </thead>\n",
       "  <tbody>\n",
       "    <tr>\n",
       "      <th>0</th>\n",
       "      <td>[myth, regarding, broken, mirrors, would, accurate, everybody, involved, production, would, face, approximately, years, bad, luck, lot, mirrors, falling, little, pieces, script, shattering, glass, broken, would, brilliant, film, sadly, overlong, derivative, dull, movie, handful, remarkable, ideas, memorable, sequences, sean, ellis, made, stylish, elegantly, photographed, movie, story, lackluster, total, absence, logic, explanation, really, frustrating, got, discussion, friend, regarding, basic, concept, meaning, film, thinks, ellis, found, inspiration, old, legend, claiming, spotting, doppelganger, foreboding, going, die, interesting, theory, familiar, legend, find, anything, internet, neither, personally, think, broken, yet, another, umpteenth, variation, theme, invasion, body, snatchers, without, alien, interference, broken, centers, american, mcvey, family, living, ...]</td>\n",
       "      <td>0</td>\n",
       "      <td>[myth, regarding, broken, mirror, would, accurate, everybody, involved, production, would, face, approximately, year, bad, luck, lot, mirror, falling, little, piece, script, wa, shattering, glass, broken, would, brilliant, film, sadly, overlong, derivative, dull, movie, handful, remarkable, idea, memorable, sequence, sean, elli, made, stylish, elegantly, photographed, movie, story, lackluster, total, absence, logic, explanation, really, frustrating, got, discussion, friend, regarding, basic, concept, meaning, film, think, elli, found, inspiration, old, legend, claiming, spotting, doppelganger, foreboding, going, die, interesting, theory, familiar, legend, find, anything, internet, neither, personally, think, broken, yet, another, umpteenth, variation, theme, invasion, body, snatcher, without, alien, interference, broken, center, american, mcvey, family, ...]</td>\n",
       "      <td>[myth, regard, broken, mirror, would, accur, everybodi, involv, thi, product, would, face, approxim, year, bad, luck, becaus, lot, mirror, fall, littl, piec, onli, script, wa, shatter, glass, broken, would, brilliant, film, sadli, overlong, deriv, dull, movi, onli, hand, remark, idea, memor, sequenc, sean, elli, made, veri, stylish, elegantli, photograph, movi, stori, lacklust, total, absenc, logic, explan, realli, frustrat, got, discuss, friend, regard, basic, concept, mean, film, think, elli, found, inspir, old, legend, claim, spot, doppelgang, forebod, go, die, interest, theori, familiar, thi, legend, find, anyth, internet, thi, neither, person, think, broken, yet, anoth, umpteenth, variat, theme, invas, bodi, snatcher, without, ...]</td>\n",
       "    </tr>\n",
       "  </tbody>\n",
       "</table>\n",
       "</div>"
      ],
      "text/plain": [
       "                                                                                                                                                                                                                                                                                                                                                                                                                                                                                                                                                                                                                                                                                                                                                                                                                                                                                                                  review  \\\n",
       "0  [myth, regarding, broken, mirrors, would, accurate, everybody, involved, production, would, face, approximately, years, bad, luck, lot, mirrors, falling, little, pieces, script, shattering, glass, broken, would, brilliant, film, sadly, overlong, derivative, dull, movie, handful, remarkable, ideas, memorable, sequences, sean, ellis, made, stylish, elegantly, photographed, movie, story, lackluster, total, absence, logic, explanation, really, frustrating, got, discussion, friend, regarding, basic, concept, meaning, film, thinks, ellis, found, inspiration, old, legend, claiming, spotting, doppelganger, foreboding, going, die, interesting, theory, familiar, legend, find, anything, internet, neither, personally, think, broken, yet, another, umpteenth, variation, theme, invasion, body, snatchers, without, alien, interference, broken, centers, american, mcvey, family, living, ...]   \n",
       "\n",
       "   labels  \\\n",
       "0       0   \n",
       "\n",
       "                                                                                                                                                                                                                                                                                                                                                                                                                                                                                                                                                                                                                                                                                                                                                                                                                                                                                                      lem  \\\n",
       "0  [myth, regarding, broken, mirror, would, accurate, everybody, involved, production, would, face, approximately, year, bad, luck, lot, mirror, falling, little, piece, script, wa, shattering, glass, broken, would, brilliant, film, sadly, overlong, derivative, dull, movie, handful, remarkable, idea, memorable, sequence, sean, elli, made, stylish, elegantly, photographed, movie, story, lackluster, total, absence, logic, explanation, really, frustrating, got, discussion, friend, regarding, basic, concept, meaning, film, think, elli, found, inspiration, old, legend, claiming, spotting, doppelganger, foreboding, going, die, interesting, theory, familiar, legend, find, anything, internet, neither, personally, think, broken, yet, another, umpteenth, variation, theme, invasion, body, snatcher, without, alien, interference, broken, center, american, mcvey, family, ...]   \n",
       "\n",
       "                                                                                                                                                                                                                                                                                                                                                                                                                                                                                                                                                                                                                                                                                                                                                                         stem  \n",
       "0  [myth, regard, broken, mirror, would, accur, everybodi, involv, thi, product, would, face, approxim, year, bad, luck, becaus, lot, mirror, fall, littl, piec, onli, script, wa, shatter, glass, broken, would, brilliant, film, sadli, overlong, deriv, dull, movi, onli, hand, remark, idea, memor, sequenc, sean, elli, made, veri, stylish, elegantli, photograph, movi, stori, lacklust, total, absenc, logic, explan, realli, frustrat, got, discuss, friend, regard, basic, concept, mean, film, think, elli, found, inspir, old, legend, claim, spot, doppelgang, forebod, go, die, interest, theori, familiar, thi, legend, find, anyth, internet, thi, neither, person, think, broken, yet, anoth, umpteenth, variat, theme, invas, bodi, snatcher, without, ...]  "
      ]
     },
     "execution_count": 13,
     "metadata": {},
     "output_type": "execute_result"
    }
   ],
   "source": [
    "imdb_data.head(1)"
   ]
  },
  {
   "cell_type": "markdown",
   "metadata": {},
   "source": [
    "# Подготовка к обучению"
   ]
  },
  {
   "cell_type": "code",
   "execution_count": 14,
   "metadata": {},
   "outputs": [],
   "source": [
    "imdb_data_cleared = imdb_data.copy()"
   ]
  },
  {
   "cell_type": "code",
   "execution_count": 15,
   "metadata": {},
   "outputs": [],
   "source": [
    "imdb_data_cleared['review'] = imdb_data_cleared['review'].apply(lambda token: \" \".join(token))\n",
    "imdb_data_cleared['stem'] = imdb_data_cleared['stem'].apply(lambda token: \" \".join(token))\n",
    "imdb_data_cleared['lem'] = imdb_data_cleared['lem'].apply(lambda token: \" \".join(token))"
   ]
  },
  {
   "cell_type": "code",
   "execution_count": 16,
   "metadata": {},
   "outputs": [
    {
     "data": {
      "text/html": [
       "<div>\n",
       "<style scoped>\n",
       "    .dataframe tbody tr th:only-of-type {\n",
       "        vertical-align: middle;\n",
       "    }\n",
       "\n",
       "    .dataframe tbody tr th {\n",
       "        vertical-align: top;\n",
       "    }\n",
       "\n",
       "    .dataframe thead th {\n",
       "        text-align: right;\n",
       "    }\n",
       "</style>\n",
       "<table border=\"1\" class=\"dataframe\">\n",
       "  <thead>\n",
       "    <tr style=\"text-align: right;\">\n",
       "      <th></th>\n",
       "      <th>review</th>\n",
       "      <th>labels</th>\n",
       "      <th>lem</th>\n",
       "      <th>stem</th>\n",
       "    </tr>\n",
       "  </thead>\n",
       "  <tbody>\n",
       "    <tr>\n",
       "      <th>0</th>\n",
       "      <td>myth regarding broken mirrors would accurate everybody involved production would face approximately years bad luck lot mirrors falling little pieces script shattering glass broken would brilliant film sadly overlong derivative dull movie handful remarkable ideas memorable sequences sean ellis made stylish elegantly photographed movie story lackluster total absence logic explanation really frustrating got discussion friend regarding basic concept meaning film thinks ellis found inspiration old legend claiming spotting doppelganger foreboding going die interesting theory familiar legend find anything internet neither personally think broken yet another umpteenth variation theme invasion body snatchers without alien interference broken centers american mcvey family living london particularly gina mirror spontaneously breaks birthday celebration triggers whole series mysterious seemingly supernatural events gina spots driving car follows mirror image apartment building whilst driving home state mental confusion causes terrible car accident ends hospital dismissed gina feels like whole surrounding changing recognize boyfriend anymore uncanny fragments accident keep flashing eyes suffer mental traumas invoked accident really supernatural conspiracy happening around writer director sean ellis definitely invokes feelings curiosity suspense script unfortunately fails properly elaborate broken truly atmospheric stylish effort half hour film come painful conclusion shall remain beautiful empty package frustratingly high amount fake suspense film means building tension ominous music eerie camera angels absolutely nothing even happened far time actually mysteriousness kicks tricks scary effect anymore fellow reviewers around compare film particularly sean ellis style repertoires david lynch stanley kubrick even alfred hitchcock way way way much honor ps alternate spelling one scandinavian</td>\n",
       "      <td>0</td>\n",
       "      <td>myth regarding broken mirror would accurate everybody involved production would face approximately year bad luck lot mirror falling little piece script wa shattering glass broken would brilliant film sadly overlong derivative dull movie handful remarkable idea memorable sequence sean elli made stylish elegantly photographed movie story lackluster total absence logic explanation really frustrating got discussion friend regarding basic concept meaning film think elli found inspiration old legend claiming spotting doppelganger foreboding going die interesting theory familiar legend find anything internet neither personally think broken yet another umpteenth variation theme invasion body snatcher without alien interference broken center american mcvey family living london particularly gina mirror spontaneously break birthday celebration trigger whole series mysterious seemingly supernatural event gina spot driving car follows mirror image apartment building whilst driving home state mental confusion cause terrible car accident end hospital dismissed gina feel like whole surrounding changing recognize boyfriend anymore uncanny fragment accident keep flashing eye doe suffer mental trauma invoked accident really supernatural conspiracy happening around writer director sean elli definitely invokes feeling curiosity suspense script unfortunately fails properly elaborate broken truly atmospheric stylish effort half hour film come painful conclusion shall remain beautiful empty package frustratingly high amount fake suspense film mean building tension ominous music eerie camera angel absolutely nothing ha even happened far time actually mysteriousness kick trick scary effect anymore fellow reviewer around compare film particularly sean elli style repertoire david lynch stanley kubrick even alfred hitchcock way way way much honor p alternate spelling one scandinavian</td>\n",
       "      <td>myth regard broken mirror would accur everybodi involv thi product would face approxim year bad luck becaus lot mirror fall littl piec onli script wa shatter glass broken would brilliant film sadli overlong deriv dull movi onli hand remark idea memor sequenc sean elli made veri stylish elegantli photograph movi stori lacklust total absenc logic explan realli frustrat got discuss friend regard basic concept mean film think elli found inspir old legend claim spot doppelgang forebod go die interest theori familiar thi legend find anyth internet thi neither person think broken yet anoth umpteenth variat theme invas bodi snatcher without alien interfer broken center american mcvey famili live london particularli gina mirror spontan break dure birthday celebr thi trigger whole seri mysteri seemingli supernatur event gina spot drive car follow mirror imag apart build whilst drive home state mental confus caus terribl car accid end hospit dismiss gina feel like whole surround chang recogn boyfriend anymor uncanni fragment accid keep flash befor eye doe suffer mental trauma invok accid realli supernatur conspiraci happen around writer director sean elli definit invok feel curios suspens hi script unfortun fail properli elabor broken truli atmospher stylish effort onli half hour film come pain conclus shall remain beauti empti packag frustratingli high amount fake suspens thi film thi mean build tension omin music eeri camera angel absolut noth ha even happen far time actual mysteri kick trick ani scari effect anymor fellow review around compar film particularli sean elli style repertoir david lynch stanley kubrick even alfr hitchcock way way way much honor ps altern spell one scandinavian</td>\n",
       "    </tr>\n",
       "  </tbody>\n",
       "</table>\n",
       "</div>"
      ],
      "text/plain": [
       "                                                                                                                                                                                                                                                                                                                                                                                                                                                                                                                                                                                                                                                                                                                                                                                                                                                                                                                                                                                                                                                                                                                                                                                                                                                                                                                                                                                                                                                                                                                                                                                                                                                                                                                                                                                                                                                                                                                                                                                 review  \\\n",
       "0  myth regarding broken mirrors would accurate everybody involved production would face approximately years bad luck lot mirrors falling little pieces script shattering glass broken would brilliant film sadly overlong derivative dull movie handful remarkable ideas memorable sequences sean ellis made stylish elegantly photographed movie story lackluster total absence logic explanation really frustrating got discussion friend regarding basic concept meaning film thinks ellis found inspiration old legend claiming spotting doppelganger foreboding going die interesting theory familiar legend find anything internet neither personally think broken yet another umpteenth variation theme invasion body snatchers without alien interference broken centers american mcvey family living london particularly gina mirror spontaneously breaks birthday celebration triggers whole series mysterious seemingly supernatural events gina spots driving car follows mirror image apartment building whilst driving home state mental confusion causes terrible car accident ends hospital dismissed gina feels like whole surrounding changing recognize boyfriend anymore uncanny fragments accident keep flashing eyes suffer mental traumas invoked accident really supernatural conspiracy happening around writer director sean ellis definitely invokes feelings curiosity suspense script unfortunately fails properly elaborate broken truly atmospheric stylish effort half hour film come painful conclusion shall remain beautiful empty package frustratingly high amount fake suspense film means building tension ominous music eerie camera angels absolutely nothing even happened far time actually mysteriousness kicks tricks scary effect anymore fellow reviewers around compare film particularly sean ellis style repertoires david lynch stanley kubrick even alfred hitchcock way way way much honor ps alternate spelling one scandinavian   \n",
       "\n",
       "   labels  \\\n",
       "0       0   \n",
       "\n",
       "                                                                                                                                                                                                                                                                                                                                                                                                                                                                                                                                                                                                                                                                                                                                                                                                                                                                                                                                                                                                                                                                                                                                                                                                                                                                                                                                                                                                                                                                                                                                                                                                                                                                                                                                                                                                                                                                                                                                                               lem  \\\n",
       "0  myth regarding broken mirror would accurate everybody involved production would face approximately year bad luck lot mirror falling little piece script wa shattering glass broken would brilliant film sadly overlong derivative dull movie handful remarkable idea memorable sequence sean elli made stylish elegantly photographed movie story lackluster total absence logic explanation really frustrating got discussion friend regarding basic concept meaning film think elli found inspiration old legend claiming spotting doppelganger foreboding going die interesting theory familiar legend find anything internet neither personally think broken yet another umpteenth variation theme invasion body snatcher without alien interference broken center american mcvey family living london particularly gina mirror spontaneously break birthday celebration trigger whole series mysterious seemingly supernatural event gina spot driving car follows mirror image apartment building whilst driving home state mental confusion cause terrible car accident end hospital dismissed gina feel like whole surrounding changing recognize boyfriend anymore uncanny fragment accident keep flashing eye doe suffer mental trauma invoked accident really supernatural conspiracy happening around writer director sean elli definitely invokes feeling curiosity suspense script unfortunately fails properly elaborate broken truly atmospheric stylish effort half hour film come painful conclusion shall remain beautiful empty package frustratingly high amount fake suspense film mean building tension ominous music eerie camera angel absolutely nothing ha even happened far time actually mysteriousness kick trick scary effect anymore fellow reviewer around compare film particularly sean elli style repertoire david lynch stanley kubrick even alfred hitchcock way way way much honor p alternate spelling one scandinavian   \n",
       "\n",
       "                                                                                                                                                                                                                                                                                                                                                                                                                                                                                                                                                                                                                                                                                                                                                                                                                                                                                                                                                                                                                                                                                                                                                                                                                                                                                                                                                                                                                                                                                                                                                                                                                                                                                                                                                                           stem  \n",
       "0  myth regard broken mirror would accur everybodi involv thi product would face approxim year bad luck becaus lot mirror fall littl piec onli script wa shatter glass broken would brilliant film sadli overlong deriv dull movi onli hand remark idea memor sequenc sean elli made veri stylish elegantli photograph movi stori lacklust total absenc logic explan realli frustrat got discuss friend regard basic concept mean film think elli found inspir old legend claim spot doppelgang forebod go die interest theori familiar thi legend find anyth internet thi neither person think broken yet anoth umpteenth variat theme invas bodi snatcher without alien interfer broken center american mcvey famili live london particularli gina mirror spontan break dure birthday celebr thi trigger whole seri mysteri seemingli supernatur event gina spot drive car follow mirror imag apart build whilst drive home state mental confus caus terribl car accid end hospit dismiss gina feel like whole surround chang recogn boyfriend anymor uncanni fragment accid keep flash befor eye doe suffer mental trauma invok accid realli supernatur conspiraci happen around writer director sean elli definit invok feel curios suspens hi script unfortun fail properli elabor broken truli atmospher stylish effort onli half hour film come pain conclus shall remain beauti empti packag frustratingli high amount fake suspens thi film thi mean build tension omin music eeri camera angel absolut noth ha even happen far time actual mysteri kick trick ani scari effect anymor fellow review around compar film particularli sean elli style repertoir david lynch stanley kubrick even alfr hitchcock way way way much honor ps altern spell one scandinavian  "
      ]
     },
     "execution_count": 16,
     "metadata": {},
     "output_type": "execute_result"
    }
   ],
   "source": [
    "imdb_data_cleared.head(1)"
   ]
  },
  {
   "cell_type": "code",
   "execution_count": 17,
   "metadata": {},
   "outputs": [],
   "source": [
    "from sklearn.model_selection import train_test_split\n",
    "X = imdb_data_cleared['review']\n",
    "y = imdb_data_cleared['labels']\n",
    "\n",
    "X_train, X_test, y_train, y_test = train_test_split(X, y, test_size=0.3, shuffle=True, random_state=42)"
   ]
  },
  {
   "cell_type": "markdown",
   "metadata": {},
   "source": [
    "### Лучшее решение (LogisticRegression)"
   ]
  },
  {
   "cell_type": "code",
   "execution_count": 22,
   "metadata": {},
   "outputs": [],
   "source": [
    "\"\"\"\n",
    "Пайплайн\n",
    "\"\"\"\n",
    "\n",
    "from sklearn.pipeline import Pipeline\n",
    "from sklearn.feature_extraction.text import TfidfVectorizer\n",
    "from sklearn.preprocessing import StandardScaler\n",
    "from sklearn.linear_model import LogisticRegression\n",
    "from sklearn.metrics import accuracy_score\n",
    "\n",
    "pipeline = Pipeline([\n",
    "    ('tfidf', TfidfVectorizer()),\n",
    "    # ('scaler', StandardScaler(with_mean=False)), # без него лучше\n",
    "    ('classifier', LogisticRegression(random_state=42))\n",
    "])"
   ]
  },
  {
   "cell_type": "code",
   "execution_count": null,
   "metadata": {},
   "outputs": [
    {
     "name": "stdout",
     "output_type": "stream",
     "text": [
      "review score is 0.8802222222222222\n",
      "lem score is 0.8768888888888889\n",
      "stem score is 0.8753333333333333\n"
     ]
    }
   ],
   "source": [
    "from sklearn.model_selection import train_test_split\n",
    "\n",
    "y = imdb_data_cleared['labels']\n",
    "\n",
    "for column in ['review', 'lem', 'stem']:\n",
    "\n",
    "    X = imdb_data_cleared[column]\n",
    "    X_train, X_test, y_train, y_test = train_test_split(X, y, test_size=0.3, shuffle=True, random_state=42)\n",
    "\n",
    "    pipeline.fit(X_train, y_train)\n",
    "\n",
    "    y_pred = pipeline.predict(X_test)\n",
    "\n",
    "    accuracy = accuracy_score(y_test, y_pred)\n",
    "    print(f\"{column} score is {accuracy}\")"
   ]
  },
  {
   "cell_type": "code",
   "execution_count": 24,
   "metadata": {},
   "outputs": [],
   "source": [
    "from sklearn.feature_extraction.text import TfidfVectorizer\n",
    "\n",
    "tfidf_vectorizer = TfidfVectorizer()\n",
    "X_train_tfidf = tfidf_vectorizer.fit_transform(X_train)\n",
    "X_test_tfidf = tfidf_vectorizer.transform(X_test)"
   ]
  },
  {
   "cell_type": "markdown",
   "metadata": {},
   "source": [
    "### Random forest"
   ]
  },
  {
   "cell_type": "code",
   "execution_count": null,
   "metadata": {},
   "outputs": [],
   "source": [
    "from sklearn.model_selection import GridSearchCV\n",
    "from sklearn.ensemble import RandomForestClassifier\n",
    "from sklearn.feature_extraction.text import TfidfVectorizer\n",
    "from sklearn.pipeline import Pipeline\n",
    "\n",
    "pipeline = Pipeline([\n",
    "    ('tfidf', TfidfVectorizer()),\n",
    "    ('clf', RandomForestClassifier())\n",
    "])\n",
    "\n",
    "\n",
    "param_grid = {\n",
    "    'tfidf__max_features': [1000, 2000, 3000],\n",
    "    'clf__n_estimators': [50, 100, 200],\n",
    "    'clf__max_depth': [None, 10, 20]\n",
    "}\n",
    "\n",
    "\n",
    "grid_search = GridSearchCV(pipeline, param_grid, cv=5, scoring='accuracy', n_jobs=-1)\n",
    "\n",
    "grid_search.fit(X_train, y_train)\n",
    "\n",
    "print(\"Best Parameters: \", grid_search.best_params_)\n",
    "print(\"Best Accuracy: \", grid_search.best_score_)\n"
   ]
  },
  {
   "cell_type": "markdown",
   "metadata": {},
   "source": [
    "# XBoost"
   ]
  },
  {
   "cell_type": "code",
   "execution_count": null,
   "metadata": {},
   "outputs": [],
   "source": [
    "import xgboost\n",
    "from xgboost import XGBClassifier\n",
    "\n",
    "xgb_clf = XGBClassifier()\n",
    "xgb_clf.fit(X_train_tfidf, y_train)\n",
    "\n",
    "\n",
    "y_pred = xgb_clf.predict(X_test_tfidf)\n",
    "\n",
    "accuracy = accuracy_score(y_test, y_pred)\n",
    "print(\"Your score is \", round(accuracy, 2))"
   ]
  },
  {
   "cell_type": "markdown",
   "metadata": {},
   "source": [
    "# Результат"
   ]
  },
  {
   "cell_type": "code",
   "execution_count": 27,
   "metadata": {},
   "outputs": [
    {
     "name": "stderr",
     "output_type": "stream",
     "text": [
      "100%|██████████| 10000/10000 [00:19<00:00, 512.41it/s]\n",
      "100%|██████████| 10000/10000 [00:12<00:00, 790.95it/s]\n"
     ]
    }
   ],
   "source": [
    "test_df = pd.read_csv('texts.csv', sep=',')\n",
    "\n",
    "test_df['texts'] = test_df['texts'].apply(primary_processing)\n",
    "test_df['texts'] = test_df['texts'].progress_apply(tokenize)\n",
    "test_df['texts']= test_df['texts'].progress_apply(delete_stopwords)\n",
    "\n",
    "test_df['texts']= test_df['texts'].apply(lambda tokens: ' '.join(tokens))"
   ]
  },
  {
   "cell_type": "code",
   "execution_count": 37,
   "metadata": {},
   "outputs": [],
   "source": [
    "X_TRAIN= imdb_data_cleared['review']\n",
    "Y_TRAIN = imdb_data_cleared['labels']\n",
    "\n",
    "X_TEST = test_df['texts']"
   ]
  },
  {
   "cell_type": "code",
   "execution_count": 38,
   "metadata": {},
   "outputs": [],
   "source": [
    "ftfidf_vectorizer = TfidfVectorizer()\n",
    "X_TRAIN_TFIDF = ftfidf_vectorizer.fit_transform(X_TRAIN)\n",
    "X_TEST_TFIDF = ftfidf_vectorizer.transform(X_TEST)"
   ]
  },
  {
   "cell_type": "code",
   "execution_count": 39,
   "metadata": {},
   "outputs": [],
   "source": [
    "from sklearn.linear_model import LogisticRegression\n",
    "from sklearn.metrics import accuracy_score\n",
    "\n",
    "fclf_lr = LogisticRegression(random_state=42, max_iter = 10000)\n",
    "fclf_lr.fit(X_TRAIN_TFIDF, Y_TRAIN)\n",
    "\n",
    "y_pred = fclf_lr.predict(X_TEST_TFIDF)"
   ]
  },
  {
   "cell_type": "code",
   "execution_count": 40,
   "metadata": {},
   "outputs": [],
   "source": [
    "results = le.inverse_transform(y_pred)"
   ]
  },
  {
   "cell_type": "code",
   "execution_count": 41,
   "metadata": {},
   "outputs": [],
   "source": [
    "df = pd.DataFrame({'id': test_df['id'], 'labels': results})\n",
    "df.to_csv('y_pred.csv', index=False)"
   ]
  },
  {
   "cell_type": "code",
   "execution_count": null,
   "metadata": {},
   "outputs": [],
   "source": [
    "df = pd.DataFrame({})\n",
    "df.to_csv('y_pred.csv', index=False)"
   ]
  }
 ],
 "metadata": {
  "kernelspec": {
   "display_name": "venv",
   "language": "python",
   "name": "python3"
  },
  "language_info": {
   "codemirror_mode": {
    "name": "ipython",
    "version": 3
   },
   "file_extension": ".py",
   "mimetype": "text/x-python",
   "name": "python",
   "nbconvert_exporter": "python",
   "pygments_lexer": "ipython3",
   "version": "3.11.4"
  }
 },
 "nbformat": 4,
 "nbformat_minor": 2
}
